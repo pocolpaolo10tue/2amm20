{
 "cells": [
  {
   "cell_type": "code",
   "execution_count": 57,
   "id": "6ac0e367-e28c-4a7a-a93c-465f26c3a05c",
   "metadata": {},
   "outputs": [
    {
     "name": "stdout",
     "output_type": "stream",
     "text": [
      "Total combined samples: 303358\n",
      "Average prompt length (words): 28.398819216898847\n",
      "Average story length (words): 553.1542830583007\n"
     ]
    }
   ],
   "source": [
    "from datasets import load_dataset, concatenate_datasets\n",
    "\n",
    "# Load the dataset\n",
    "wp = load_dataset(\"euclaise/writingprompts\")\n",
    "\n",
    "# Combine all splits (train, validation, test) into one dataset\n",
    "all_splits = concatenate_datasets([split for split in wp.values()])\n",
    "\n",
    "# Print combined size\n",
    "print(\"Total combined samples:\", len(all_splits))\n",
    "\n",
    "# Compute averages efficiently\n",
    "total_prompt_words = 0\n",
    "total_story_words = 0\n",
    "n = len(all_splits)\n",
    "\n",
    "for example in all_splits:\n",
    "    total_prompt_words += len(example[\"prompt\"].split())\n",
    "    total_story_words += len(example[\"story\"].split())\n",
    "\n",
    "avg_prompt = total_prompt_words / n\n",
    "avg_story = total_story_words / n\n",
    "\n",
    "print(\"Average prompt length (words):\", avg_prompt)\n",
    "print(\"Average story length (words):\", avg_story)\n"
   ]
  },
  {
   "cell_type": "code",
   "execution_count": 105,
   "id": "f7e20618-1b0c-40c6-a68d-9dec75fe74d1",
   "metadata": {},
   "outputs": [
    {
     "name": "stdout",
     "output_type": "stream",
     "text": [
      "Number of samples: 325475\n",
      "Average question length (words): 15.072871956371458\n",
      "Average answer length (words): 76.03513941162916\n"
     ]
    }
   ],
   "source": [
    "from datasets import load_dataset\n",
    "\n",
    "# Load dataset\n",
    "eli5 = load_dataset(\"sentence-transformers/eli5\", \"pair\")\n",
    "train = eli5[\"train\"]\n",
    "\n",
    "print(\"Number of samples:\", len(train))\n",
    "\n",
    "# Running sums for efficiency\n",
    "total_q_words = 0\n",
    "total_a_words = 0\n",
    "n = len(train)\n",
    "\n",
    "for ex in train:\n",
    "    total_q_words += len(ex[\"question\"].split())\n",
    "    total_a_words += len(ex[\"answer\"].split())\n",
    "\n",
    "avg_q = total_q_words / n\n",
    "avg_a = total_a_words / n\n",
    "\n",
    "print(\"Average question length (words):\", avg_q)\n",
    "print(\"Average answer length (words):\", avg_a)\n"
   ]
  },
  {
   "cell_type": "code",
   "execution_count": 109,
   "id": "5963ea9f-5565-4526-bf71-0d523deb6d1d",
   "metadata": {},
   "outputs": [
    {
     "name": "stdout",
     "output_type": "stream",
     "text": [
      "Number of samples: 313105\n",
      "Average question length (words): 132.25116175085034\n",
      "Average answer length (words): 219.61877325497835\n"
     ]
    }
   ],
   "source": [
    "import re\n",
    "import numpy as np\n",
    "from datasets import load_dataset\n",
    "\n",
    "# Load dataset\n",
    "se2 = load_dataset(\"PrimeIntellect/stackexchange-question-answering\")[\"train\"]\n",
    "\n",
    "print(\"Number of samples:\", len(se2))\n",
    "\n",
    "def clean_question(raw_q):\n",
    "    # Extract only the real question text (remove wrapping)\n",
    "    match = re.search(r\"Question:\\s*(.*?)(?:Now provide|$)\", raw_q, flags=re.S)\n",
    "    return match.group(1).strip() if match else raw_q.strip()\n",
    "\n",
    "# Compute average lengths (fast way)\n",
    "q_lengths = [len(clean_question(ex[\"prompt\"]).split()) for ex in se2]\n",
    "a_lengths = [len(ex[\"gold_standard_solution\"].split()) for ex in se2]\n",
    "\n",
    "print(\"Average question length (words):\", np.mean(q_lengths))\n",
    "print(\"Average answer length (words):\", np.mean(a_lengths))\n"
   ]
  },
  {
   "cell_type": "code",
   "execution_count": null,
   "id": "c8631b7b-ab76-407d-be07-e71a36562191",
   "metadata": {},
   "outputs": [],
   "source": []
  }
 ],
 "metadata": {
  "kernelspec": {
   "display_name": "Python 3 (ipykernel)",
   "language": "python",
   "name": "python3"
  },
  "language_info": {
   "codemirror_mode": {
    "name": "ipython",
    "version": 3
   },
   "file_extension": ".py",
   "mimetype": "text/x-python",
   "name": "python",
   "nbconvert_exporter": "python",
   "pygments_lexer": "ipython3",
   "version": "3.11.0"
  }
 },
 "nbformat": 4,
 "nbformat_minor": 5
}
