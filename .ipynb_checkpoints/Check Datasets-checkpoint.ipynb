{
 "cells": [
  {
   "cell_type": "code",
   "execution_count": 2,
   "id": "2d9cc327-f1a7-48bc-b3f1-a83f4ffcab8f",
   "metadata": {},
   "outputs": [],
   "source": [
    "import pandas as pd\n",
    "\n",
    "# Load the three datasets from parquet files\n",
    "wp_df = pd.read_parquet(\"./datasets/writingprompts_QA.parquet\")\n",
    "eli5_df = pd.read_parquet(\"./datasets/eli5_QA.parquet\")\n",
    "se_df = pd.read_parquet(\"./datasets/stackexchange_QA.parquet\")\n",
    "\n"
   ]
  },
  {
   "cell_type": "code",
   "execution_count": null,
   "id": "2c46804f-15d9-402a-a803-31defaa99c83",
   "metadata": {},
   "outputs": [],
   "source": [
    "import pandas as pd\n",
    "\n",
    "def compare_qna_datasets(datasets: dict):\n",
    "    stats = []\n",
    "    for name, df in datasets.items():\n",
    "        n = len(df)\n",
    "        avg_q = df[\"question\"].str.split().str.len().mean()\n",
    "        avg_a = df[\"answer\"].str.split().str.len().mean()\n",
    "        stats.append({\n",
    "            \"dataset\": name,\n",
    "            \"samples\": n,\n",
    "            \"avg_question_words\": avg_q,\n",
    "            \"avg_answer_words\": avg_a\n",
    "        })\n",
    "    return pd.DataFrame(stats)\n",
    "\n",
    "# Example usage:\n",
    "datasets = {\n",
    "    \"WritingPrompts\": wp_df,\n",
    "    \"ELI5\": eli5_df,\n",
    "    \"StackExchange\": se_df\n",
    "}\n",
    "\n",
    "stats_df = compare_qna_datasets(datasets)\n",
    "print(stats_df)\n"
   ]
  },
  {
   "cell_type": "code",
   "execution_count": null,
   "id": "d49869d1-f37e-4873-a55b-9b282f78e271",
   "metadata": {},
   "outputs": [],
   "source": [
    "def preview_qna(df, name=\"Dataset\", n=10):\n",
    "    \"\"\"Print the first n question–answer pairs from a QA dataframe.\"\"\"\n",
    "    print(f\"\\n=== {name} (showing {n} samples) ===\\n\")\n",
    "    for i, row in df.head(n).iterrows():\n",
    "        print(f\"Example {i+1}\")\n",
    "        print(\"Question:\\n\", row[\"question\"])\n",
    "        print(\"\\nAnswer:\\n\", row[\"answer\"])\n",
    "        print(\"-\"*80)\n",
    "\n",
    "# Call on the 3 datasets\n",
    "preview_qna(eli5_df, \"ELI5\")\n",
    "\n"
   ]
  },
  {
   "cell_type": "code",
   "execution_count": null,
   "id": "d7e5c1c0-181a-41cb-afcb-f8d103abb9d2",
   "metadata": {},
   "outputs": [],
   "source": []
  }
 ],
 "metadata": {
  "kernelspec": {
   "display_name": "Python 3 (ipykernel)",
   "language": "python",
   "name": "python3"
  },
  "language_info": {
   "codemirror_mode": {
    "name": "ipython",
    "version": 3
   },
   "file_extension": ".py",
   "mimetype": "text/x-python",
   "name": "python",
   "nbconvert_exporter": "python",
   "pygments_lexer": "ipython3",
   "version": "3.11.0"
  }
 },
 "nbformat": 4,
 "nbformat_minor": 5
}
