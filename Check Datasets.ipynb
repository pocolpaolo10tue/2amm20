{
 "cells": [
  {
   "cell_type": "code",
   "execution_count": 2,
   "id": "2d9cc327-f1a7-48bc-b3f1-a83f4ffcab8f",
   "metadata": {},
   "outputs": [],
   "source": [
    "import pandas as pd\n",
    "\n",
    "# Load the three datasets from parquet files\n",
    "wp_df = pd.read_parquet(\"./datasets/writingprompts_QA.parquet\")\n",
    "eli5_df = pd.read_parquet(\"./datasets/eli5_QA.parquet\")\n",
    "se_df = pd.read_parquet(\"./datasets/stackexchange_QA.parquet\")\n",
    "\n"
   ]
  },
  {
   "cell_type": "code",
   "execution_count": 4,
   "id": "2c46804f-15d9-402a-a803-31defaa99c83",
   "metadata": {},
   "outputs": [
    {
     "name": "stdout",
     "output_type": "stream",
     "text": [
      "          dataset  samples  avg_question_words  avg_answer_words\n",
      "0  WritingPrompts   303358           28.398819        553.154283\n",
      "1            ELI5   325475           15.072872         76.035139\n",
      "2   StackExchange   313105          132.251162        219.618773\n"
     ]
    }
   ],
   "source": [
    "import pandas as pd\n",
    "\n",
    "def compare_qna_datasets(datasets: dict):\n",
    "    stats = []\n",
    "    for name, df in datasets.items():\n",
    "        n = len(df)\n",
    "        avg_q = df[\"question\"].str.split().str.len().mean()\n",
    "        avg_a = df[\"answer\"].str.split().str.len().mean()\n",
    "        stats.append({\n",
    "            \"dataset\": name,\n",
    "            \"samples\": n,\n",
    "            \"avg_question_words\": avg_q,\n",
    "            \"avg_answer_words\": avg_a\n",
    "        })\n",
    "    return pd.DataFrame(stats)\n",
    "\n",
    "# Example usage:\n",
    "datasets = {\n",
    "    \"WritingPrompts\": wp_df,\n",
    "    \"ELI5\": eli5_df,\n",
    "    \"StackExchange\": se_df\n",
    "}\n",
    "\n",
    "stats_df = compare_qna_datasets(datasets)\n",
    "print(stats_df)\n"
   ]
  },
  {
   "cell_type": "code",
   "execution_count": 5,
   "id": "d49869d1-f37e-4873-a55b-9b282f78e271",
   "metadata": {},
   "outputs": [
    {
     "name": "stdout",
     "output_type": "stream",
     "text": [
      "\n",
      "=== ELI5 (showing 10 samples) ===\n",
      "\n",
      "Example 1\n",
      "Question:\n",
      " in football whats the point of wasting the first two plays with a rush - up the middle - not regular rush plays i get those\n",
      "\n",
      "Answer:\n",
      " Keep the defense honest, get a feel for the pass rush, open up the passing game. An offense that's too one dimensional will fail. And those rushes up the middle can be busted wide open sometimes for big yardage.\n",
      "--------------------------------------------------------------------------------\n",
      "Example 2\n",
      "Question:\n",
      " Why are different tiers (regular < mid < premium) of gas' prices almost always 10 cents different?\n",
      "\n",
      "Answer:\n",
      " As someone who uses quality Premium, I wish this was true.\n",
      "--------------------------------------------------------------------------------\n",
      "Example 3\n",
      "Question:\n",
      " Stars and Visibility\n",
      "\n",
      "Answer:\n",
      " It's a quirk of the human eye. At the center of the eye (the fovea) we mostly have colour-sensitive cone cells to see detail and colour of what we're focusing on. Around the fovea we mostly have rod cells that can't see colour but are more sensitive to variations in light intensity and movement.  Looking slightly to the side of the thing you're examining sends more of the light to the rod cells and lets you see things more clearly in low-light conditions where cones don't work well.\n",
      "--------------------------------------------------------------------------------\n",
      "Example 4\n",
      "Question:\n",
      " How do we know all the money the government is getting from bank settlements is going back to the people?\n",
      "\n",
      "Answer:\n",
      " I'm pretty confident most of it isn't going back to the people. That's how politics works.\n",
      "--------------------------------------------------------------------------------\n",
      "Example 5\n",
      "Question:\n",
      " What are good and bad sides of manual and automatic drive gear?\n",
      "\n",
      "Answer:\n",
      " Automatics weigh more, so that alone makes gas mileage worse. They are also more complicated, so that means reliability is going to be lower. It is easier to operate, which may free up your attention for focus on what is *outside* the car. Some people derive satisfaction from shifting, and flexibility in using the power curve.\n",
      "--------------------------------------------------------------------------------\n",
      "Example 6\n",
      "Question:\n",
      " How do muscles grow?\n",
      "\n",
      "Answer:\n",
      " I hope this answer qualifies as technical, yet simple enough (as I very rarely post here), but the basic idea that I understand is that your muscles rip and tear on a microscopic level when you are working out, and the harder you push those muscles, the more they rip. Hence where the idea comes from that more reps and less weight equal more tone, but more weight and less reps equal more muscle growth. What happens is that following those tiny rips and tears, your muscle heals over itself and essentially stacks on top of itself, healing bigger and stronger than before. The more those muscles are used, kept active and challenged, the more they will continue to build and grow over time. Other factors go into the growth of muscle as well, such as your nutrition. Protein, fats, etc. also play a factor, as they cause your body to \"feed\" your body and muscles in different ways of varying effectiveness - but I think that's an ELI5 for another day.\n",
      "--------------------------------------------------------------------------------\n",
      "Example 7\n",
      "Question:\n",
      " Why does the water from my kitchen faucet taste different than the water from my bathroom faucet? Doesn't it come from the same place?\n",
      "\n",
      "Answer:\n",
      " Yes, but the pipes going to one place could have a build up that's changing the taste or the composition of the pipes can be different, i.e. pvc pipes going to your kitchen, but copper pipes to your bathroom.\n",
      "--------------------------------------------------------------------------------\n",
      "Example 8\n",
      "Question:\n",
      " If dark colours absorb more heat, why does light skin burn easier than dark skin?\n",
      "\n",
      "Answer:\n",
      " Two things going on here. First, heat doesn't have anything to do with sunburn, it's all about UV rays. Encountering more UV rays = more sunburn. However, dark skin absorbs more UV rays than pale skin. And in fact that's exactly why it burns less. The pigmented layer absorbs more UV in the upper layers of the skin, shading the cells underneath from UV and preventing burns (because it's the lower, reproducing cells that matter, the upper ones are disposable protection). Just like sitting outside under an opaque black umbrella would shade you more than sitting outside under a translucent white one.\n",
      "--------------------------------------------------------------------------------\n",
      "Example 9\n",
      "Question:\n",
      " How the fuck does Facebook know about people I know?!\n",
      "\n",
      "Answer:\n",
      " Your email contacts, your academic/work institutions info you've put, and the friends of your friends.\n",
      "--------------------------------------------------------------------------------\n",
      "Example 10\n",
      "Question:\n",
      " Why is chickenpox worse as an adult?\n",
      "\n",
      "Answer:\n",
      " It's mostly due to the difference in immune system between a child and an adult. A primary varicella zoster infection (chickenpox) in adulthood is indeed associated with increased risk of complications. Most of these complications are due to the intense response by the adult immune system that comes into contact with the virus for the first time. Children have less active immune systems, but usually active enough to clear the virus - making them immune to it thereafter, and are therefore less likely to develop complications with this particular infection. The same goes to hepatitis A: adults develop jaundice, while children are asymptomatic.  Note: a secondary varicella zoster infection during adulthood is called \"shingles\" and is generally less dangerous than a primary varicella during adulthood, due to the immunity that is already present at the time of the second infection.\n",
      "--------------------------------------------------------------------------------\n"
     ]
    }
   ],
   "source": [
    "def preview_qna(df, name=\"Dataset\", n=10):\n",
    "    \"\"\"Print the first n question–answer pairs from a QA dataframe.\"\"\"\n",
    "    print(f\"\\n=== {name} (showing {n} samples) ===\\n\")\n",
    "    for i, row in df.head(n).iterrows():\n",
    "        print(f\"Example {i+1}\")\n",
    "        print(\"Question:\\n\", row[\"question\"])\n",
    "        print(\"\\nAnswer:\\n\", row[\"answer\"])\n",
    "        print(\"-\"*80)\n",
    "\n",
    "# Call on the 3 datasets\n",
    "preview_qna(eli5_df, \"ELI5\")\n",
    "\n"
   ]
  },
  {
   "cell_type": "code",
   "execution_count": null,
   "id": "d7e5c1c0-181a-41cb-afcb-f8d103abb9d2",
   "metadata": {},
   "outputs": [],
   "source": []
  }
 ],
 "metadata": {
  "kernelspec": {
   "display_name": "Python 3 (ipykernel)",
   "language": "python",
   "name": "python3"
  },
  "language_info": {
   "codemirror_mode": {
    "name": "ipython",
    "version": 3
   },
   "file_extension": ".py",
   "mimetype": "text/x-python",
   "name": "python",
   "nbconvert_exporter": "python",
   "pygments_lexer": "ipython3",
   "version": "3.11.0"
  }
 },
 "nbformat": 4,
 "nbformat_minor": 5
}
